{
 "cells": [
  {
   "cell_type": "code",
   "execution_count": 2,
   "id": "b7933ded",
   "metadata": {},
   "outputs": [],
   "source": [
    "from amazon_product_review_scraper import amazon_product_review_scraper"
   ]
  },
  {
   "cell_type": "code",
   "execution_count": 3,
   "id": "7bac4be3",
   "metadata": {},
   "outputs": [
    {
     "name": "stderr",
     "output_type": "stream",
     "text": [
      "/Users/rajeshprabhakar/opt/anaconda3/lib/python3.8/site-packages/urllib3/connectionpool.py:1013: InsecureRequestWarning: Unverified HTTPS request is being made to host 'www.amazon.in'. Adding certificate verification is strongly advised. See: https://urllib3.readthedocs.io/en/latest/advanced-usage.html#ssl-warnings\n",
      "  warnings.warn(\n"
     ]
    },
    {
     "name": "stdout",
     "output_type": "stream",
     "text": [
      "Total reviews (all pages): 792\n"
     ]
    }
   ],
   "source": [
    "review_scraper=amazon_product_review_scraper(\n",
    "amazon_site='amazon.in',product_asin='B08L5VJYV7')"
   ]
  },
  {
   "cell_type": "code",
   "execution_count": 4,
   "id": "0aa43e36",
   "metadata": {},
   "outputs": [
    {
     "name": "stdout",
     "output_type": "stream",
     "text": [
      "Total pages: 80\n",
      "Start page: 1; End page: 80\n",
      "\n",
      "Started!\n"
     ]
    },
    {
     "data": {
      "application/vnd.jupyter.widget-view+json": {
       "model_id": "92a2cfb95e3a44f6b7761194074e3060",
       "version_major": 2,
       "version_minor": 0
      },
      "text/plain": [
       "  0%|          | 0/80 [00:00<?, ?it/s]"
      ]
     },
     "metadata": {},
     "output_type": "display_data"
    },
    {
     "name": "stderr",
     "output_type": "stream",
     "text": [
      "/Users/rajeshprabhakar/opt/anaconda3/lib/python3.8/site-packages/urllib3/connectionpool.py:1013: InsecureRequestWarning: Unverified HTTPS request is being made to host 'www.amazon.in'. Adding certificate verification is strongly advised. See: https://urllib3.readthedocs.io/en/latest/advanced-usage.html#ssl-warnings\n",
      "  warnings.warn(\n"
     ]
    },
    {
     "name": "stdout",
     "output_type": "stream",
     "text": [
      "Not able to scrape page 33 (CAPTCHA is not bypassed)\n",
      "Not able to scrape page 45 (CAPTCHA is not bypassed)\n",
      "Not able to scrape page 49 (CAPTCHA is not bypassed)\n",
      "Not able to scrape page 60 (CAPTCHA is not bypassed)\n",
      "Completed!\n"
     ]
    }
   ],
   "source": [
    "reviewsdf=review_scraper.scrape()"
   ]
  },
  {
   "cell_type": "code",
   "execution_count": 5,
   "id": "36f96441",
   "metadata": {},
   "outputs": [],
   "source": [
    "reviewsdf.to_csv('iphone12reviews.csv')"
   ]
  },
  {
   "cell_type": "code",
   "execution_count": 6,
   "id": "84168ed0",
   "metadata": {},
   "outputs": [],
   "source": [
    "import pandas as pd\n",
    "import numpy as np\n",
    "import matplotlib.pyplot as plt\n",
    "%matplotlib inline"
   ]
  },
  {
   "cell_type": "code",
   "execution_count": 7,
   "id": "a8b918ef",
   "metadata": {},
   "outputs": [],
   "source": [
    "reviews=reviewsdf.content"
   ]
  },
  {
   "cell_type": "code",
   "execution_count": 9,
   "id": "cf6b5698",
   "metadata": {},
   "outputs": [
    {
     "data": {
      "text/plain": [
       "0    My girlfriend demanded me this iphone... And n...\n",
       "1    Worst battery performance.. Iphone 11 is far b...\n",
       "2    Another beauty from Apple. I was upgraded from...\n",
       "3    Sold kidney bought this, now not feeling well ...\n",
       "4    This was my first switch to an ios device afte...\n",
       "Name: content, dtype: object"
      ]
     },
     "execution_count": 9,
     "metadata": {},
     "output_type": "execute_result"
    }
   ],
   "source": [
    "reviews.head()"
   ]
  },
  {
   "cell_type": "code",
   "execution_count": 14,
   "id": "789939fe",
   "metadata": {},
   "outputs": [],
   "source": [
    "reviews=pd.DataFrame(reviews)"
   ]
  },
  {
   "cell_type": "code",
   "execution_count": 11,
   "id": "3f692a0e",
   "metadata": {},
   "outputs": [],
   "source": [
    "from textblob import TextBlob"
   ]
  },
  {
   "cell_type": "code",
   "execution_count": 12,
   "id": "5566c475",
   "metadata": {},
   "outputs": [],
   "source": [
    "def analyze_sentiment(tweet):\n",
    "    analysis=TextBlob(tweet)\n",
    "    if analysis.sentiment.polarity>0:\n",
    "        return 'Positive'\n",
    "    elif analysis.sentiment.polarity==0:\n",
    "        return 'Neutral'\n",
    "    else:\n",
    "        return 'Negative'"
   ]
  },
  {
   "cell_type": "code",
   "execution_count": 16,
   "id": "be442bb5",
   "metadata": {},
   "outputs": [],
   "source": [
    "reviews['sentiment']=[str(analyze_sentiment(x))\n",
    "                     for x in reviews.content]"
   ]
  },
  {
   "cell_type": "code",
   "execution_count": 18,
   "id": "366fc933",
   "metadata": {},
   "outputs": [
    {
     "data": {
      "text/plain": [
       "<AxesSubplot:>"
      ]
     },
     "execution_count": 18,
     "metadata": {},
     "output_type": "execute_result"
    },
    {
     "data": {
      "image/png": "[encoded data removed]",
      "text/plain": [
       "<Figure size 432x288 with 1 Axes>"
      ]
     },
     "metadata": {
      "needs_background": "light"
     },
     "output_type": "display_data"
    }
   ],
   "source": [
    "reviews.sentiment.value_counts().plot(kind='bar')"
   ]
  },
  {
   "cell_type": "code",
   "execution_count": 22,
   "id": "8ec91a09",
   "metadata": {},
   "outputs": [
    {
     "data": {
      "text/plain": [
       "(752, 2)"
      ]
     },
     "execution_count": 22,
     "metadata": {},
     "output_type": "execute_result"
    }
   ],
   "source": [
    "reviews.shape"
   ]
  },
  {
   "cell_type": "code",
   "execution_count": 20,
   "id": "6cd4f380",
   "metadata": {},
   "outputs": [],
   "source": [
    "# Term Frequency Inverse Document Frequency - Tfidf\n",
    "from sklearn.feature_extraction.text import TfidfVectorizer"
   ]
  },
  {
   "cell_type": "code",
   "execution_count": 23,
   "id": "04172038",
   "metadata": {},
   "outputs": [],
   "source": [
    "tfidf=TfidfVectorizer(analyzer='word',ngram_range=(1,3),\n",
    "                     min_df=0,stop_words='english',\n",
    "                     max_features=300)"
   ]
  },
  {
   "cell_type": "code",
   "execution_count": 25,
   "id": "0bb2e26f",
   "metadata": {},
   "outputs": [],
   "source": [
    "tfidfmatrix=tfidf.fit_transform(reviews.content)"
   ]
  },
  {
   "cell_type": "code",
   "execution_count": 28,
   "id": "33ccf4c1",
   "metadata": {},
   "outputs": [],
   "source": [
    "from sklearn.cluster import KMeans"
   ]
  },
  {
   "cell_type": "code",
   "execution_count": 29,
   "id": "faf0f470",
   "metadata": {},
   "outputs": [],
   "source": [
    "kmeans=KMeans(n_clusters=5).fit(tfidfmatrix)"
   ]
  },
  {
   "cell_type": "code",
   "execution_count": 30,
   "id": "1222edd5",
   "metadata": {},
   "outputs": [],
   "source": [
    "reviews['kmeans']=kmeans.labels_"
   ]
  },
  {
   "cell_type": "code",
   "execution_count": 31,
   "id": "b356b949",
   "metadata": {},
   "outputs": [
    {
     "data": {
      "text/html": [
       "<div>\n",
       "<style scoped>\n",
       "    .dataframe tbody tr th:only-of-type {\n",
       "        vertical-align: middle;\n",
       "    }\n",
       "\n",
       "    .dataframe tbody tr th {\n",
       "        vertical-align: top;\n",
       "    }\n",
       "\n",
       "    .dataframe thead th {\n",
       "        text-align: right;\n",
       "    }\n",
       "</style>\n",
       "<table border=\"1\" class=\"dataframe\">\n",
       "  <thead>\n",
       "    <tr style=\"text-align: right;\">\n",
       "      <th></th>\n",
       "      <th>content</th>\n",
       "      <th>sentiment</th>\n",
       "      <th>kmeans</th>\n",
       "    </tr>\n",
       "  </thead>\n",
       "  <tbody>\n",
       "    <tr>\n",
       "      <th>0</th>\n",
       "      <td>My girlfriend demanded me this iphone... And n...</td>\n",
       "      <td>Negative</td>\n",
       "      <td>4</td>\n",
       "    </tr>\n",
       "    <tr>\n",
       "      <th>1</th>\n",
       "      <td>Worst battery performance.. Iphone 11 is far b...</td>\n",
       "      <td>Negative</td>\n",
       "      <td>0</td>\n",
       "    </tr>\n",
       "    <tr>\n",
       "      <th>2</th>\n",
       "      <td>Another beauty from Apple. I was upgraded from...</td>\n",
       "      <td>Positive</td>\n",
       "      <td>4</td>\n",
       "    </tr>\n",
       "    <tr>\n",
       "      <th>3</th>\n",
       "      <td>Sold kidney bought this, now not feeling well ...</td>\n",
       "      <td>Positive</td>\n",
       "      <td>3</td>\n",
       "    </tr>\n",
       "    <tr>\n",
       "      <th>4</th>\n",
       "      <td>This was my first switch to an ios device afte...</td>\n",
       "      <td>Positive</td>\n",
       "      <td>0</td>\n",
       "    </tr>\n",
       "  </tbody>\n",
       "</table>\n",
       "</div>"
      ],
      "text/plain": [
       "                                             content sentiment  kmeans\n",
       "0  My girlfriend demanded me this iphone... And n...  Negative       4\n",
       "1  Worst battery performance.. Iphone 11 is far b...  Negative       0\n",
       "2  Another beauty from Apple. I was upgraded from...  Positive       4\n",
       "3  Sold kidney bought this, now not feeling well ...  Positive       3\n",
       "4  This was my first switch to an ios device afte...  Positive       0"
      ]
     },
     "execution_count": 31,
     "metadata": {},
     "output_type": "execute_result"
    }
   ],
   "source": [
    "reviews.head()"
   ]
  },
  {
   "cell_type": "code",
   "execution_count": 43,
   "id": "9fb582af",
   "metadata": {},
   "outputs": [
    {
     "data": {
      "image/png": "[encoded data removed]",
      "text/plain": [
       "<Figure size 432x288 with 1 Axes>"
      ]
     },
     "metadata": {
      "needs_background": "light"
     },
     "output_type": "display_data"
    }
   ],
   "source": [
    "wcsslist=[]\n",
    "for i in range(1,10):\n",
    "    kmeans=KMeans(n_clusters=i,init='k-means++',random_state=42)\n",
    "    kmeans.fit(tfidfmatrix)\n",
    "    wcsslist.append(kmeans.inertia_)\n",
    "plt.plot(range(1,10),wcsslist)\n",
    "plt.title('Elbow plot')\n",
    "plt.xlabel('Num of Clusters')\n",
    "plt.ylabel('wcsss')\n",
    "plt.show()"
   ]
  },
  {
   "cell_type": "code",
   "execution_count": 44,
   "id": "ff18c194",
   "metadata": {},
   "outputs": [],
   "source": [
    "from sklearn.metrics.cluster import silhouette_score"
   ]
  },
  {
   "cell_type": "code",
   "execution_count": 53,
   "id": "30a5037f",
   "metadata": {},
   "outputs": [],
   "source": [
    "silscore=silhouette_score(tfidfmatrix,\n",
    "                         kmeans.labels_,\n",
    "                         metric='euclidean',\n",
    "                         sample_size=752)"
   ]
  },
  {
   "cell_type": "code",
   "execution_count": 54,
   "id": "987dfe77",
   "metadata": {},
   "outputs": [
    {
     "data": {
      "text/plain": [
       "0.055059121653549946"
      ]
     },
     "execution_count": 54,
     "metadata": {},
     "output_type": "execute_result"
    }
   ],
   "source": [
    "silscore"
   ]
  },
  {
   "cell_type": "code",
   "execution_count": 55,
   "id": "fe8572f8",
   "metadata": {},
   "outputs": [],
   "source": [
    "# Hierarchical Clustering - Output - Dendogram\n",
    "# Distance based method \n",
    "from sklearn.metrics.pairwise import cosine_similarity"
   ]
  },
  {
   "cell_type": "code",
   "execution_count": 56,
   "id": "722d30b4",
   "metadata": {},
   "outputs": [],
   "source": [
    "dist=1-cosine_similarity(tfidfmatrix)\n",
    "# Textmining - Ward method of clustering which is agglomerative clustering\n",
    "# method. \n",
    "# Agglomerative Clustering - At each stage pair of clusters with minimum\n",
    "# distance are merged."
   ]
  },
  {
   "cell_type": "code",
   "execution_count": 58,
   "id": "7085167a",
   "metadata": {},
   "outputs": [],
   "source": [
    "from scipy.cluster.hierarchy import ward, dendrogram"
   ]
  },
  {
   "cell_type": "code",
   "execution_count": 59,
   "id": "0e578201",
   "metadata": {},
   "outputs": [],
   "source": [
    "linkage_matrix=ward(dist)"
   ]
  },
  {
   "cell_type": "code",
   "execution_count": 63,
   "id": "124797eb",
   "metadata": {},
   "outputs": [
    {
     "data": {
      "image/png": "[encoded data removed]",
      "text/plain": [
       "<Figure size 1080x1440 with 1 Axes>"
      ]
     },
     "metadata": {
      "needs_background": "light"
     },
     "output_type": "display_data"
    }
   ],
   "source": [
    "fig,ax=plt.subplots(figsize=(15,20))\n",
    "ax=dendrogram(linkage_matrix,orientation='right')"
   ]
  },
  {
   "cell_type": "code",
   "execution_count": 64,
   "id": "e4cdadaf",
   "metadata": {},
   "outputs": [],
   "source": [
    "from sklearn.cluster import AgglomerativeClustering"
   ]
  },
  {
   "cell_type": "code",
   "execution_count": 78,
   "id": "e8af2b56",
   "metadata": {},
   "outputs": [],
   "source": [
    "hclust=AgglomerativeClustering(n_clusters=4).fit(\n",
    "    tfidfmatrix.toarray())"
   ]
  },
  {
   "cell_type": "code",
   "execution_count": 79,
   "id": "29b0dcf3",
   "metadata": {},
   "outputs": [],
   "source": [
    "reviews['hclust']=hclust.labels_"
   ]
  },
  {
   "cell_type": "code",
   "execution_count": 81,
   "id": "b5dd23f5",
   "metadata": {},
   "outputs": [
    {
     "data": {
      "text/plain": [
       "0    700\n",
       "3     20\n",
       "2     18\n",
       "1     14\n",
       "Name: hclust, dtype: int64"
      ]
     },
     "execution_count": 81,
     "metadata": {},
     "output_type": "execute_result"
    }
   ],
   "source": [
    "reviews.hclust.value_counts()"
   ]
  },
  {
   "cell_type": "code",
   "execution_count": 89,
   "id": "83a23784",
   "metadata": {},
   "outputs": [],
   "source": [
    "reviewsdata=pd.DataFrame(tfidfmatrix)"
   ]
  },
  {
   "cell_type": "code",
   "execution_count": 92,
   "id": "ed95f336",
   "metadata": {},
   "outputs": [],
   "source": [
    "reviewsdata.columns=['tfidf']"
   ]
  },
  {
   "cell_type": "code",
   "execution_count": 94,
   "id": "6e18a020",
   "metadata": {},
   "outputs": [],
   "source": [
    "reviewsdata['sentiment']=reviews.sentiment"
   ]
  },
  {
   "cell_type": "code",
   "execution_count": 95,
   "id": "54b6045e",
   "metadata": {},
   "outputs": [],
   "source": [
    "y=reviewsdata.sentiment\n",
    "X=reviewsdata.drop('sentiment',axis=1)"
   ]
  },
  {
   "cell_type": "code",
   "execution_count": 100,
   "id": "e92e3a93",
   "metadata": {},
   "outputs": [],
   "source": [
    "from sklearn.preprocessing import LabelEncoder"
   ]
  },
  {
   "cell_type": "code",
   "execution_count": 101,
   "id": "d2e078a6",
   "metadata": {},
   "outputs": [],
   "source": [
    "le=LabelEncoder()"
   ]
  },
  {
   "cell_type": "code",
   "execution_count": 102,
   "id": "2650c545",
   "metadata": {},
   "outputs": [],
   "source": [
    "y=le.fit_transform(y)"
   ]
  },
  {
   "cell_type": "code",
   "execution_count": 105,
   "id": "979ef7a9",
   "metadata": {},
   "outputs": [
    {
     "data": {
      "text/plain": [
       "array([0, 0, 2, 2, 2, 2, 0, 0, 2, 0, 2, 2, 2, 2, 0, 2, 2, 2, 2, 2, 2, 2,\n",
       "       2, 2, 0, 2, 0, 2, 2, 2, 0, 0, 2, 2, 0, 0, 2, 0, 2, 2, 2, 2, 2, 2,\n",
       "       0, 2, 2, 2, 2, 2, 2, 2, 2, 2, 2, 2, 2, 1, 2, 2, 2, 2, 2, 2, 2, 2,\n",
       "       2, 2, 2, 2, 2, 2, 0, 2, 2, 0, 2, 2, 2, 2, 2, 2, 2, 2, 2, 2, 2, 2,\n",
       "       2, 2, 2, 2, 2, 2, 2, 2, 2, 0, 0, 2, 2, 2, 2, 2, 0, 2, 2, 2, 2, 2,\n",
       "       2, 2, 2, 2, 2, 2, 2, 2, 2, 2, 0, 2, 2, 0, 2, 1, 2, 1, 2, 2, 2, 2,\n",
       "       2, 0, 2, 2, 2, 2, 0, 2, 2, 0, 2, 2, 2, 2, 0, 2, 2, 1, 2, 2, 2, 1,\n",
       "       2, 2, 2, 2, 2, 2, 0, 1, 1, 2, 2, 1, 2, 2, 2, 2, 2, 2, 0, 2, 2, 2,\n",
       "       2, 2, 2, 2, 2, 2, 2, 2, 2, 2, 0, 2, 0, 0, 2, 2, 2, 2, 2, 2, 0, 2,\n",
       "       2, 2, 2, 2, 2, 2, 2, 0, 2, 2, 0, 2, 2, 0, 1, 2, 2, 2, 2, 2, 2, 2,\n",
       "       1, 1, 2, 2, 2, 2, 0, 0, 0, 2, 2, 0, 2, 1, 2, 2, 0, 2, 2, 2, 2, 2,\n",
       "       2, 1, 2, 2, 2, 0, 2, 2, 2, 2, 2, 0, 0, 1, 2, 2, 2, 2, 2, 2, 2, 1,\n",
       "       2, 0, 2, 1, 2, 1, 1, 2, 2, 2, 1, 2, 2, 2, 1, 2, 2, 2, 2, 2, 2, 2,\n",
       "       2, 2, 0, 2, 2, 2, 0, 2, 2, 2, 2, 2, 2, 2, 2, 0, 2, 1, 0, 2, 2, 2,\n",
       "       1, 2, 0, 2, 2, 2, 2, 2, 2, 2, 2, 2, 2, 2, 2, 2, 2, 2, 2, 2, 2, 2,\n",
       "       1, 2, 2, 2, 2, 2, 1, 2, 2, 2, 2, 0, 2, 2, 2, 2, 1, 2, 2, 1, 2, 2,\n",
       "       2, 2, 2, 2, 1, 2, 2, 2, 2, 2, 2, 2, 2, 2, 2, 0, 2, 2, 2, 0, 2, 0,\n",
       "       2, 2, 2, 0, 2, 1, 2, 2, 2, 2, 2, 2, 2, 2, 2, 1, 1, 2, 2, 2, 2, 2,\n",
       "       1, 2, 0, 2, 2, 2, 2, 2, 2, 1, 2, 0, 2, 1, 2, 2, 2, 2, 2, 1, 2, 2,\n",
       "       2, 2, 2, 2, 2, 2, 2, 2, 2, 1, 0, 2, 2, 2, 2, 1, 2, 2, 2, 2, 2, 1,\n",
       "       1, 1, 2, 2, 2, 2, 2, 1, 2, 1, 2, 2, 2, 2, 2, 1, 1, 2, 2, 1, 2, 2,\n",
       "       2, 2, 2, 2, 0, 0, 2, 2, 1, 2, 1, 2, 2, 2, 2, 2, 2, 1, 1, 2, 1, 2,\n",
       "       1, 2, 1, 2, 2, 2, 2, 2, 2, 1, 1, 1, 2, 1, 1, 2, 2, 2, 1, 2, 1, 1,\n",
       "       2, 2, 1, 2, 2, 2, 2, 2, 2, 0, 2, 2, 2, 2, 2, 2, 1, 2, 2, 2, 2, 2,\n",
       "       2, 1, 0, 2, 2, 2, 0, 2, 2, 2, 1, 2, 2, 2, 2, 1, 1, 2, 2, 2, 2, 2,\n",
       "       1, 2, 2, 1, 2, 2, 2, 2, 2, 2, 2, 1, 2, 2, 1, 1, 2, 2, 2, 2, 1, 2,\n",
       "       1, 1, 2, 2, 2, 2, 2, 2, 2, 2, 2, 0, 2, 2, 2, 2, 0, 2, 2, 2, 2, 2,\n",
       "       2, 0, 2, 2, 0, 2, 2, 2, 2, 2, 0, 2, 2, 2, 2, 1, 2, 0, 2, 0, 2, 2,\n",
       "       2, 2, 0, 0, 1, 0, 2, 2, 0, 2, 0, 0, 2, 0, 2, 2, 2, 2, 2, 2, 2, 2,\n",
       "       0, 0, 2, 2, 0, 2, 2, 2, 2, 0, 2, 2, 2, 2, 2, 2, 2, 2, 2, 2, 0, 2,\n",
       "       2, 2, 1, 2, 2, 1, 0, 2, 2, 2, 2, 2, 2, 2, 0, 2, 0, 2, 2, 2, 2, 2,\n",
       "       2, 2, 1, 2, 2, 1, 2, 2, 1, 2, 2, 0, 2, 2, 2, 2, 2, 2, 2, 2, 2, 2,\n",
       "       2, 2, 2, 2, 2, 1, 2, 2, 2, 2, 2, 2, 2, 2, 2, 2, 2, 2, 2, 2, 2, 2,\n",
       "       2, 2, 2, 2, 1, 2, 2, 2, 2, 2, 2, 2, 2, 2, 2, 2, 0, 1, 1, 1, 1, 1,\n",
       "       2, 0, 0, 1])"
      ]
     },
     "execution_count": 105,
     "metadata": {},
     "output_type": "execute_result"
    }
   ],
   "source": [
    "y"
   ]
  },
  {
   "cell_type": "code",
   "execution_count": 96,
   "id": "1ee0dc24",
   "metadata": {},
   "outputs": [],
   "source": [
    "from sklearn.linear_model import LogisticRegression"
   ]
  },
  {
   "cell_type": "code",
   "execution_count": 106,
   "id": "9aec1593",
   "metadata": {},
   "outputs": [],
   "source": [
    "logit=LogisticRegression(multi_class='multinomial').fit(tfidfmatrix,\n",
    "                                                        reviews.sentiment)"
   ]
  },
  {
   "cell_type": "code",
   "execution_count": 107,
   "id": "1747fc62",
   "metadata": {},
   "outputs": [
    {
     "data": {
      "text/plain": [
       "0.839095744680851"
      ]
     },
     "execution_count": 107,
     "metadata": {},
     "output_type": "execute_result"
    }
   ],
   "source": [
    "logit.score(tfidfmatrix,reviews.sentiment) # Accuracy from Confusion Matrix"
   ]
  },
  {
   "cell_type": "code",
   "execution_count": 108,
   "id": "45b044e4",
   "metadata": {},
   "outputs": [],
   "source": [
    "logitpredict=logit.predict(tfidfmatrix)"
   ]
  },
  {
   "cell_type": "code",
   "execution_count": 109,
   "id": "b35e00f2",
   "metadata": {},
   "outputs": [
    {
     "data": {
      "text/html": [
       "<div>\n",
       "<style scoped>\n",
       "    .dataframe tbody tr th:only-of-type {\n",
       "        vertical-align: middle;\n",
       "    }\n",
       "\n",
       "    .dataframe tbody tr th {\n",
       "        vertical-align: top;\n",
       "    }\n",
       "\n",
       "    .dataframe thead th {\n",
       "        text-align: right;\n",
       "    }\n",
       "</style>\n",
       "<table border=\"1\" class=\"dataframe\">\n",
       "  <thead>\n",
       "    <tr style=\"text-align: right;\">\n",
       "      <th>col_0</th>\n",
       "      <th>Negative</th>\n",
       "      <th>Neutral</th>\n",
       "      <th>Positive</th>\n",
       "    </tr>\n",
       "    <tr>\n",
       "      <th>sentiment</th>\n",
       "      <th></th>\n",
       "      <th></th>\n",
       "      <th></th>\n",
       "    </tr>\n",
       "  </thead>\n",
       "  <tbody>\n",
       "    <tr>\n",
       "      <th>Negative</th>\n",
       "      <td>32</td>\n",
       "      <td>1</td>\n",
       "      <td>54</td>\n",
       "    </tr>\n",
       "    <tr>\n",
       "      <th>Neutral</th>\n",
       "      <td>1</td>\n",
       "      <td>22</td>\n",
       "      <td>65</td>\n",
       "    </tr>\n",
       "    <tr>\n",
       "      <th>Positive</th>\n",
       "      <td>0</td>\n",
       "      <td>0</td>\n",
       "      <td>577</td>\n",
       "    </tr>\n",
       "  </tbody>\n",
       "</table>\n",
       "</div>"
      ],
      "text/plain": [
       "col_0      Negative  Neutral  Positive\n",
       "sentiment                             \n",
       "Negative         32        1        54\n",
       "Neutral           1       22        65\n",
       "Positive          0        0       577"
      ]
     },
     "execution_count": 109,
     "metadata": {},
     "output_type": "execute_result"
    }
   ],
   "source": [
    "pd.crosstab(reviews.sentiment,logitpredict)"
   ]
  },
  {
   "cell_type": "code",
   "execution_count": 110,
   "id": "a50e4c7e",
   "metadata": {},
   "outputs": [],
   "source": [
    "from sklearn.metrics import classification_report"
   ]
  },
  {
   "cell_type": "code",
   "execution_count": 111,
   "id": "72a58e85",
   "metadata": {},
   "outputs": [
    {
     "name": "stdout",
     "output_type": "stream",
     "text": [
      "              precision    recall  f1-score   support\n",
      "\n",
      "    Negative       0.97      0.37      0.53        87\n",
      "     Neutral       0.96      0.25      0.40        88\n",
      "    Positive       0.83      1.00      0.91       577\n",
      "\n",
      "    accuracy                           0.84       752\n",
      "   macro avg       0.92      0.54      0.61       752\n",
      "weighted avg       0.86      0.84      0.80       752\n",
      "\n"
     ]
    }
   ],
   "source": [
    "print(classification_report(reviews.sentiment,logitpredict))"
   ]
  },
  {
   "cell_type": "code",
   "execution_count": 112,
   "id": "8c0fd820",
   "metadata": {},
   "outputs": [],
   "source": [
    "from sklearn.tree import DecisionTreeClassifier"
   ]
  },
  {
   "cell_type": "code",
   "execution_count": 117,
   "id": "c0c7584e",
   "metadata": {},
   "outputs": [],
   "source": [
    "tree=DecisionTreeClassifier()"
   ]
  },
  {
   "cell_type": "code",
   "execution_count": 118,
   "id": "6715c205",
   "metadata": {},
   "outputs": [],
   "source": [
    "treemodel=tree.fit(tfidfmatrix,reviews.sentiment)"
   ]
  },
  {
   "cell_type": "code",
   "execution_count": 119,
   "id": "aaf545b3",
   "metadata": {},
   "outputs": [
    {
     "data": {
      "text/plain": [
       "0.9787234042553191"
      ]
     },
     "execution_count": 119,
     "metadata": {},
     "output_type": "execute_result"
    }
   ],
   "source": [
    "treemodel.score(tfidfmatrix,reviews.sentiment)"
   ]
  },
  {
   "cell_type": "code",
   "execution_count": 120,
   "id": "76341c9b",
   "metadata": {},
   "outputs": [],
   "source": [
    "from sklearn.model_selection import cross_val_score"
   ]
  },
  {
   "cell_type": "code",
   "execution_count": 121,
   "id": "d21090e9",
   "metadata": {},
   "outputs": [
    {
     "data": {
      "text/plain": [
       "array([0.75496689, 0.77483444, 0.72      , 0.77333333, 0.76      ])"
      ]
     },
     "execution_count": 121,
     "metadata": {},
     "output_type": "execute_result"
    }
   ],
   "source": [
    "cross_val_score(tree,tfidfmatrix,reviews.sentiment,cv=5)"
   ]
  },
  {
   "cell_type": "code",
   "execution_count": 122,
   "id": "53178014",
   "metadata": {},
   "outputs": [],
   "source": [
    "from sklearn.naive_bayes import MultinomialNB"
   ]
  },
  {
   "cell_type": "code",
   "execution_count": 123,
   "id": "a19e8e5d",
   "metadata": {},
   "outputs": [],
   "source": [
    "multinomNB=MultinomialNB()"
   ]
  },
  {
   "cell_type": "code",
   "execution_count": 124,
   "id": "0fe89331",
   "metadata": {},
   "outputs": [],
   "source": [
    "NBmodel=multinomNB.fit(tfidfmatrix,reviews.sentiment)"
   ]
  },
  {
   "cell_type": "code",
   "execution_count": 125,
   "id": "8fa59111",
   "metadata": {},
   "outputs": [
    {
     "data": {
      "text/plain": [
       "0.7938829787234043"
      ]
     },
     "execution_count": 125,
     "metadata": {},
     "output_type": "execute_result"
    }
   ],
   "source": [
    "NBmodel.score(tfidfmatrix,reviews.sentiment)"
   ]
  },
  {
   "cell_type": "code",
   "execution_count": 128,
   "id": "e11c635b",
   "metadata": {},
   "outputs": [],
   "source": [
    "import nltk"
   ]
  },
  {
   "cell_type": "code",
   "execution_count": 130,
   "id": "4d4a38cf",
   "metadata": {},
   "outputs": [
    {
     "name": "stdout",
     "output_type": "stream",
     "text": [
      "showing info https://raw.githubusercontent.com/nltk/nltk_data/gh-pages/index.xml\n"
     ]
    },
    {
     "data": {
      "text/plain": [
       "True"
      ]
     },
     "execution_count": 130,
     "metadata": {},
     "output_type": "execute_result"
    }
   ],
   "source": [
    "nltk.download()"
   ]
  },
  {
   "cell_type": "code",
   "execution_count": null,
   "id": "4a8a5942",
   "metadata": {},
   "outputs": [],
   "source": []
  }
 ],
 "metadata": {
  "kernelspec": {
   "display_name": "Python 3",
   "language": "python",
   "name": "python3"
  },
  "language_info": {
   "codemirror_mode": {
    "name": "ipython",
    "version": 3
   },
   "file_extension": ".py",
   "mimetype": "text/x-python",
   "name": "python",
   "nbconvert_exporter": "python",
   "pygments_lexer": "ipython3",
   "version": "3.8.8"
  }
 },
 "nbformat": 4,
 "nbformat_minor": 5
}
